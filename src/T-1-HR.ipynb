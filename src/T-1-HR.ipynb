{
 "cells": [
  {
   "cell_type": "code",
   "execution_count": null,
   "id": "c9cad5fe",
   "metadata": {},
   "outputs": [
    {
     "data": {
      "text/plain": [
       "1470"
      ]
     },
     "execution_count": 10,
     "metadata": {},
     "output_type": "execute_result"
    }
   ],
   "source": [
    "#Improt the database\n",
    "import pandas as pd\n",
    "import sqlite3\n",
    "df = pd.read_csv('data/SWA_Fn-UseC_-HR-Employee-Attrition.csv')\n",
    "conn = sqlite3.connect('data/mydb.db')\n",
    "df.to_sql('Employees', conn, if_exists='replace', index=False)"
   ]
  },
  {
   "cell_type": "markdown",
   "id": "b5ce7eb3",
   "metadata": {},
   "source": [
    "Q1 Python/ Sqlite"
   ]
  },
  {
   "cell_type": "code",
   "execution_count": null,
   "id": "e3cd9b7b",
   "metadata": {},
   "outputs": [
    {
     "name": "stdout",
     "output_type": "stream",
     "text": [
      "Total employees: 1470\n"
     ]
    }
   ],
   "source": [
    "# count the length by python \n",
    "total_employees = len(df)\n",
    "print(f\"Total employees: {total_employees}\")"
   ]
  },
  {
   "cell_type": "code",
   "execution_count": 12,
   "id": "63da3672",
   "metadata": {},
   "outputs": [
    {
     "data": {
      "text/html": [
       "<div>\n",
       "<style scoped>\n",
       "    .dataframe tbody tr th:only-of-type {\n",
       "        vertical-align: middle;\n",
       "    }\n",
       "\n",
       "    .dataframe tbody tr th {\n",
       "        vertical-align: top;\n",
       "    }\n",
       "\n",
       "    .dataframe thead th {\n",
       "        text-align: right;\n",
       "    }\n",
       "</style>\n",
       "<table border=\"1\" class=\"dataframe\">\n",
       "  <thead>\n",
       "    <tr style=\"text-align: right;\">\n",
       "      <th></th>\n",
       "      <th>count (*)</th>\n",
       "    </tr>\n",
       "  </thead>\n",
       "  <tbody>\n",
       "    <tr>\n",
       "      <th>0</th>\n",
       "      <td>1470</td>\n",
       "    </tr>\n",
       "  </tbody>\n",
       "</table>\n",
       "</div>"
      ],
      "text/plain": [
       "   count (*)\n",
       "0       1470"
      ]
     },
     "execution_count": 12,
     "metadata": {},
     "output_type": "execute_result"
    }
   ],
   "source": [
    "# count the length by SQL\n",
    "s1= pd.read_sql_query(\"select count (*) FROM Employees;\",conn)\n",
    "s1"
   ]
  },
  {
   "cell_type": "code",
   "execution_count": null,
   "id": "94f1515a",
   "metadata": {},
   "outputs": [
    {
     "name": "stdout",
     "output_type": "stream",
     "text": [
      "Employee count by Department:\n",
      "Department\n",
      "Human Resources            63\n",
      "Research & Development    961\n",
      "Sales                     446\n",
      "dtype: int64\n"
     ]
    }
   ],
   "source": [
    "# count the employee by department (Python)\n",
    "department_counts = df.groupby('Department').size()\n",
    "print(\"Employee count by Department:\")\n",
    "print(department_counts)"
   ]
  },
  {
   "cell_type": "code",
   "execution_count": 14,
   "id": "827d9f9e",
   "metadata": {},
   "outputs": [
    {
     "data": {
      "text/html": [
       "<div>\n",
       "<style scoped>\n",
       "    .dataframe tbody tr th:only-of-type {\n",
       "        vertical-align: middle;\n",
       "    }\n",
       "\n",
       "    .dataframe tbody tr th {\n",
       "        vertical-align: top;\n",
       "    }\n",
       "\n",
       "    .dataframe thead th {\n",
       "        text-align: right;\n",
       "    }\n",
       "</style>\n",
       "<table border=\"1\" class=\"dataframe\">\n",
       "  <thead>\n",
       "    <tr style=\"text-align: right;\">\n",
       "      <th></th>\n",
       "      <th>Department</th>\n",
       "      <th>employee_count</th>\n",
       "    </tr>\n",
       "  </thead>\n",
       "  <tbody>\n",
       "    <tr>\n",
       "      <th>0</th>\n",
       "      <td>Human Resources</td>\n",
       "      <td>63</td>\n",
       "    </tr>\n",
       "    <tr>\n",
       "      <th>1</th>\n",
       "      <td>Research &amp; Development</td>\n",
       "      <td>961</td>\n",
       "    </tr>\n",
       "    <tr>\n",
       "      <th>2</th>\n",
       "      <td>Sales</td>\n",
       "      <td>446</td>\n",
       "    </tr>\n",
       "  </tbody>\n",
       "</table>\n",
       "</div>"
      ],
      "text/plain": [
       "               Department  employee_count\n",
       "0         Human Resources              63\n",
       "1  Research & Development             961\n",
       "2                   Sales             446"
      ]
     },
     "execution_count": 14,
     "metadata": {},
     "output_type": "execute_result"
    }
   ],
   "source": [
    "# count the employee by department (SQL)\n",
    "s2 = pd.read_sql_query(\"SELECT Department, COUNT(EmployeeNumber) AS \" \\\n",
    "\"employee_count FROM Employees GROUP BY Department;\",conn)\n",
    "s2"
   ]
  },
  {
   "cell_type": "code",
   "execution_count": null,
   "id": "6ba9bae6",
   "metadata": {},
   "outputs": [
    {
     "name": "stdout",
     "output_type": "stream",
     "text": [
      "Average monthly income by job role:\n",
      "                     JobRole  MonthlyIncome\n",
      "0  Healthcare Representative           7528\n",
      "1            Human Resources           4235\n",
      "2      Laboratory Technician           3237\n",
      "3                    Manager          17181\n",
      "4     Manufacturing Director           7295\n",
      "5          Research Director          16033\n",
      "6         Research Scientist           3239\n",
      "7            Sales Executive           6924\n",
      "8       Sales Representative           2626\n"
     ]
    }
   ],
   "source": [
    "# Average income (Python) \n",
    "avg_income = df.groupby('JobRole')['MonthlyIncome'].mean().reset_index()\n",
    "print(\"Average monthly income by job role:\")\n",
    "avg_income['MonthlyIncome'] = avg_income['MonthlyIncome'].astype(int)\n",
    "print(avg_income)"
   ]
  },
  {
   "cell_type": "code",
   "execution_count": 16,
   "id": "05dd9728",
   "metadata": {},
   "outputs": [
    {
     "data": {
      "text/html": [
       "<div>\n",
       "<style scoped>\n",
       "    .dataframe tbody tr th:only-of-type {\n",
       "        vertical-align: middle;\n",
       "    }\n",
       "\n",
       "    .dataframe tbody tr th {\n",
       "        vertical-align: top;\n",
       "    }\n",
       "\n",
       "    .dataframe thead th {\n",
       "        text-align: right;\n",
       "    }\n",
       "</style>\n",
       "<table border=\"1\" class=\"dataframe\">\n",
       "  <thead>\n",
       "    <tr style=\"text-align: right;\">\n",
       "      <th></th>\n",
       "      <th>JobRole</th>\n",
       "      <th>average_monthly_income</th>\n",
       "    </tr>\n",
       "  </thead>\n",
       "  <tbody>\n",
       "    <tr>\n",
       "      <th>0</th>\n",
       "      <td>Healthcare Representative</td>\n",
       "      <td>7528.763359</td>\n",
       "    </tr>\n",
       "    <tr>\n",
       "      <th>1</th>\n",
       "      <td>Human Resources</td>\n",
       "      <td>4235.750000</td>\n",
       "    </tr>\n",
       "    <tr>\n",
       "      <th>2</th>\n",
       "      <td>Laboratory Technician</td>\n",
       "      <td>3237.169884</td>\n",
       "    </tr>\n",
       "    <tr>\n",
       "      <th>3</th>\n",
       "      <td>Manager</td>\n",
       "      <td>17181.676471</td>\n",
       "    </tr>\n",
       "    <tr>\n",
       "      <th>4</th>\n",
       "      <td>Manufacturing Director</td>\n",
       "      <td>7295.137931</td>\n",
       "    </tr>\n",
       "    <tr>\n",
       "      <th>5</th>\n",
       "      <td>Research Director</td>\n",
       "      <td>16033.550000</td>\n",
       "    </tr>\n",
       "    <tr>\n",
       "      <th>6</th>\n",
       "      <td>Research Scientist</td>\n",
       "      <td>3239.972603</td>\n",
       "    </tr>\n",
       "    <tr>\n",
       "      <th>7</th>\n",
       "      <td>Sales Executive</td>\n",
       "      <td>6924.279141</td>\n",
       "    </tr>\n",
       "    <tr>\n",
       "      <th>8</th>\n",
       "      <td>Sales Representative</td>\n",
       "      <td>2626.000000</td>\n",
       "    </tr>\n",
       "  </tbody>\n",
       "</table>\n",
       "</div>"
      ],
      "text/plain": [
       "                     JobRole  average_monthly_income\n",
       "0  Healthcare Representative             7528.763359\n",
       "1            Human Resources             4235.750000\n",
       "2      Laboratory Technician             3237.169884\n",
       "3                    Manager            17181.676471\n",
       "4     Manufacturing Director             7295.137931\n",
       "5          Research Director            16033.550000\n",
       "6         Research Scientist             3239.972603\n",
       "7            Sales Executive             6924.279141\n",
       "8       Sales Representative             2626.000000"
      ]
     },
     "execution_count": 16,
     "metadata": {},
     "output_type": "execute_result"
    }
   ],
   "source": [
    "# Average income (SQL) \n",
    "s3 = pd.read_sql_query(\"SELECT JobRole, AVG(MonthlyIncome) AS average_monthly_income \" \\\n",
    "\"FROM employees GROUP BY JobRole;\",conn)\n",
    "s3"
   ]
  },
  {
   "cell_type": "code",
   "execution_count": 17,
   "id": "54c2a016",
   "metadata": {},
   "outputs": [
    {
     "name": "stdout",
     "output_type": "stream",
     "text": [
      "Top 5 employees by performance rating:\n",
      "      PerformanceRating\n",
      "1467                  4\n",
      "1433                  4\n",
      "1432                  4\n",
      "26                    4\n",
      "21                    4\n"
     ]
    }
   ],
   "source": [
    "#Top 5 Employee by performancerate (Python)\n",
    "top_5_employees = df.sort_values(by='PerformanceRating', ascending=False).head(5)\n",
    "print(\"Top 5 employees by performance rating:\")\n",
    "print(top_5_employees[['PerformanceRating']])"
   ]
  },
  {
   "cell_type": "code",
   "execution_count": 18,
   "id": "e88e3f71",
   "metadata": {},
   "outputs": [
    {
     "data": {
      "text/html": [
       "<div>\n",
       "<style scoped>\n",
       "    .dataframe tbody tr th:only-of-type {\n",
       "        vertical-align: middle;\n",
       "    }\n",
       "\n",
       "    .dataframe tbody tr th {\n",
       "        vertical-align: top;\n",
       "    }\n",
       "\n",
       "    .dataframe thead th {\n",
       "        text-align: right;\n",
       "    }\n",
       "</style>\n",
       "<table border=\"1\" class=\"dataframe\">\n",
       "  <thead>\n",
       "    <tr style=\"text-align: right;\">\n",
       "      <th></th>\n",
       "      <th>EmployeeNumber</th>\n",
       "      <th>PerformanceRating</th>\n",
       "      <th>JobRole</th>\n",
       "    </tr>\n",
       "  </thead>\n",
       "  <tbody>\n",
       "    <tr>\n",
       "      <th>0</th>\n",
       "      <td>2</td>\n",
       "      <td>4</td>\n",
       "      <td>Research Scientist</td>\n",
       "    </tr>\n",
       "    <tr>\n",
       "      <th>1</th>\n",
       "      <td>10</td>\n",
       "      <td>4</td>\n",
       "      <td>Laboratory Technician</td>\n",
       "    </tr>\n",
       "    <tr>\n",
       "      <th>2</th>\n",
       "      <td>11</td>\n",
       "      <td>4</td>\n",
       "      <td>Laboratory Technician</td>\n",
       "    </tr>\n",
       "    <tr>\n",
       "      <th>3</th>\n",
       "      <td>12</td>\n",
       "      <td>4</td>\n",
       "      <td>Manufacturing Director</td>\n",
       "    </tr>\n",
       "    <tr>\n",
       "      <th>4</th>\n",
       "      <td>27</td>\n",
       "      <td>4</td>\n",
       "      <td>Sales Representative</td>\n",
       "    </tr>\n",
       "  </tbody>\n",
       "</table>\n",
       "</div>"
      ],
      "text/plain": [
       "   EmployeeNumber  PerformanceRating                 JobRole\n",
       "0               2                  4      Research Scientist\n",
       "1              10                  4   Laboratory Technician\n",
       "2              11                  4   Laboratory Technician\n",
       "3              12                  4  Manufacturing Director\n",
       "4              27                  4    Sales Representative"
      ]
     },
     "execution_count": 18,
     "metadata": {},
     "output_type": "execute_result"
    }
   ],
   "source": [
    "#Top 5 Employee by performancerate (SQL)\n",
    "s4 = pd.read_sql_query(\"SELECT EmployeeNumber,PerformanceRating, JobRole FROM Employees \" \\\n",
    "\"ORDER BY PerformanceRating DESC LIMIT 5;\",conn)\n",
    "s4"
   ]
  },
  {
   "cell_type": "code",
   "execution_count": 20,
   "id": "44687866",
   "metadata": {},
   "outputs": [
    {
     "name": "stdout",
     "output_type": "stream",
     "text": [
      "Research & Development has the highest average PerformanceRate: 3.16\n"
     ]
    }
   ],
   "source": [
    "# The highest average Performance Department (Python)\n",
    "grouped = df.groupby('Department')['PerformanceRating'].mean()\n",
    "highest_dept = grouped.idxmax()\n",
    "highest_value = grouped.max()\n",
    "print(f\"{highest_dept} has the highest average PerformanceRate: {highest_value:.2f}\")"
   ]
  },
  {
   "cell_type": "code",
   "execution_count": 21,
   "id": "7686fc8a",
   "metadata": {},
   "outputs": [
    {
     "data": {
      "text/html": [
       "<div>\n",
       "<style scoped>\n",
       "    .dataframe tbody tr th:only-of-type {\n",
       "        vertical-align: middle;\n",
       "    }\n",
       "\n",
       "    .dataframe tbody tr th {\n",
       "        vertical-align: top;\n",
       "    }\n",
       "\n",
       "    .dataframe thead th {\n",
       "        text-align: right;\n",
       "    }\n",
       "</style>\n",
       "<table border=\"1\" class=\"dataframe\">\n",
       "  <thead>\n",
       "    <tr style=\"text-align: right;\">\n",
       "      <th></th>\n",
       "      <th>Department</th>\n",
       "      <th>avg_rating</th>\n",
       "    </tr>\n",
       "  </thead>\n",
       "  <tbody>\n",
       "    <tr>\n",
       "      <th>0</th>\n",
       "      <td>Research &amp; Development</td>\n",
       "      <td>3.16</td>\n",
       "    </tr>\n",
       "  </tbody>\n",
       "</table>\n",
       "</div>"
      ],
      "text/plain": [
       "               Department  avg_rating\n",
       "0  Research & Development        3.16"
      ]
     },
     "execution_count": 21,
     "metadata": {},
     "output_type": "execute_result"
    }
   ],
   "source": [
    "# The highest average Performance Department (SQL)\n",
    "s5 = pd.read_sql_query(\"SELECT Department, ROUND(AVG(PerformanceRating),2) AS avg_rating \" \\\n",
    "\"FROM Employees GROUP BY Department ORDER \" \\\n",
    "\"BY avg_rating DESC LIMIT 1;\",conn)\n",
    "s5"
   ]
  },
  {
   "cell_type": "code",
   "execution_count": 22,
   "id": "5d0c5b51",
   "metadata": {},
   "outputs": [
    {
     "name": "stdout",
     "output_type": "stream",
     "text": [
      "Average Age:\n",
      "               Department  Age\n",
      "0         Human Resources   37\n",
      "1  Research & Development   37\n",
      "2                   Sales   36\n"
     ]
    }
   ],
   "source": [
    "# Average Age by Department (Python) \n",
    "Age_AVG = df.groupby('Department')['Age'].mean().reset_index()\n",
    "print(\"Average Age:\")\n",
    "Age_AVG['Age'] = Age_AVG['Age'].astype(int)\n",
    "print(Age_AVG)"
   ]
  },
  {
   "cell_type": "code",
   "execution_count": 23,
   "id": "a7ec04f4",
   "metadata": {},
   "outputs": [
    {
     "data": {
      "text/html": [
       "<div>\n",
       "<style scoped>\n",
       "    .dataframe tbody tr th:only-of-type {\n",
       "        vertical-align: middle;\n",
       "    }\n",
       "\n",
       "    .dataframe tbody tr th {\n",
       "        vertical-align: top;\n",
       "    }\n",
       "\n",
       "    .dataframe thead th {\n",
       "        text-align: right;\n",
       "    }\n",
       "</style>\n",
       "<table border=\"1\" class=\"dataframe\">\n",
       "  <thead>\n",
       "    <tr style=\"text-align: right;\">\n",
       "      <th></th>\n",
       "      <th>Department</th>\n",
       "      <th>AVG_Job_Involvement</th>\n",
       "    </tr>\n",
       "  </thead>\n",
       "  <tbody>\n",
       "    <tr>\n",
       "      <th>0</th>\n",
       "      <td>Sales</td>\n",
       "      <td>2.70</td>\n",
       "    </tr>\n",
       "    <tr>\n",
       "      <th>1</th>\n",
       "      <td>Research &amp; Development</td>\n",
       "      <td>2.74</td>\n",
       "    </tr>\n",
       "    <tr>\n",
       "      <th>2</th>\n",
       "      <td>Human Resources</td>\n",
       "      <td>2.75</td>\n",
       "    </tr>\n",
       "  </tbody>\n",
       "</table>\n",
       "</div>"
      ],
      "text/plain": [
       "               Department  AVG_Job_Involvement\n",
       "0                   Sales                 2.70\n",
       "1  Research & Development                 2.74\n",
       "2         Human Resources                 2.75"
      ]
     },
     "execution_count": 23,
     "metadata": {},
     "output_type": "execute_result"
    }
   ],
   "source": [
    "# Average Age by Department (SQL) \n",
    "s6 = pd.read_sql_query(\"SELECT Department, ROUND(AVG(JobInvolvement),2) AS AVG_Job_Involvement \" \\\n",
    "\"FROM Employees GROUP BY Department ORDER BY AVG_Job_Involvement;\",conn)\n",
    "s6\n"
   ]
  },
  {
   "cell_type": "code",
   "execution_count": 24,
   "id": "d0f8a906",
   "metadata": {},
   "outputs": [
    {
     "name": "stdout",
     "output_type": "stream",
     "text": [
      "Average Job Involvement:\n",
      "Department\n",
      "Human Resources           2.75\n",
      "Research & Development    2.74\n",
      "Sales                     2.70\n",
      "Name: JobInvolvement, dtype: float64\n"
     ]
    }
   ],
   "source": [
    "# Average Job Involvement by  Department (Python)\n",
    "AVG_JobInvolvement = df.groupby('Department')['JobInvolvement'].mean().round(2)\n",
    "print(\"Average Job Involvement:\")\n",
    "print(AVG_JobInvolvement)"
   ]
  },
  {
   "cell_type": "code",
   "execution_count": 25,
   "id": "fa7877e5",
   "metadata": {},
   "outputs": [
    {
     "data": {
      "text/html": [
       "<div>\n",
       "<style scoped>\n",
       "    .dataframe tbody tr th:only-of-type {\n",
       "        vertical-align: middle;\n",
       "    }\n",
       "\n",
       "    .dataframe tbody tr th {\n",
       "        vertical-align: top;\n",
       "    }\n",
       "\n",
       "    .dataframe thead th {\n",
       "        text-align: right;\n",
       "    }\n",
       "</style>\n",
       "<table border=\"1\" class=\"dataframe\">\n",
       "  <thead>\n",
       "    <tr style=\"text-align: right;\">\n",
       "      <th></th>\n",
       "      <th>Department</th>\n",
       "      <th>avg_age</th>\n",
       "    </tr>\n",
       "  </thead>\n",
       "  <tbody>\n",
       "    <tr>\n",
       "      <th>0</th>\n",
       "      <td>Human Resources</td>\n",
       "      <td>37.8</td>\n",
       "    </tr>\n",
       "    <tr>\n",
       "      <th>1</th>\n",
       "      <td>Research &amp; Development</td>\n",
       "      <td>37.0</td>\n",
       "    </tr>\n",
       "    <tr>\n",
       "      <th>2</th>\n",
       "      <td>Sales</td>\n",
       "      <td>36.5</td>\n",
       "    </tr>\n",
       "  </tbody>\n",
       "</table>\n",
       "</div>"
      ],
      "text/plain": [
       "               Department  avg_age\n",
       "0         Human Resources     37.8\n",
       "1  Research & Development     37.0\n",
       "2                   Sales     36.5"
      ]
     },
     "execution_count": 25,
     "metadata": {},
     "output_type": "execute_result"
    }
   ],
   "source": [
    "# Average Job Involvement by  Department (SQL)\n",
    "s7 = pd.read_sql_query(\"SELECT Department, ROUND(AVG(Age), 1) AS avg_age \" \\\n",
    "\"FROM Employees GROUP BY Department;\",conn)\n",
    "s7"
   ]
  },
  {
   "cell_type": "code",
   "execution_count": 26,
   "id": "381687c9",
   "metadata": {},
   "outputs": [
    {
     "name": "stdout",
     "output_type": "stream",
     "text": [
      "education level:\n",
      "Department              Education\n",
      "Human Resources         3             27\n",
      "                        4             15\n",
      "                        2             13\n",
      "                        1              5\n",
      "                        5              3\n",
      "Research & Development  3            379\n",
      "                        4            255\n",
      "                        2            182\n",
      "                        1            115\n",
      "                        5             30\n",
      "Sales                   3            166\n",
      "                        4            128\n",
      "                        2             87\n",
      "                        1             50\n",
      "                        5             15\n",
      "Name: count, dtype: int64\n"
     ]
    }
   ],
   "source": [
    "#Education count by department (Python)\n",
    "education_count = df.groupby('Department')['Education'].value_counts()\n",
    "print(\"education level:\")\n",
    "print(education_count)"
   ]
  },
  {
   "cell_type": "code",
   "execution_count": 27,
   "id": "4c66c32f",
   "metadata": {},
   "outputs": [
    {
     "data": {
      "text/html": [
       "<div>\n",
       "<style scoped>\n",
       "    .dataframe tbody tr th:only-of-type {\n",
       "        vertical-align: middle;\n",
       "    }\n",
       "\n",
       "    .dataframe tbody tr th {\n",
       "        vertical-align: top;\n",
       "    }\n",
       "\n",
       "    .dataframe thead th {\n",
       "        text-align: right;\n",
       "    }\n",
       "</style>\n",
       "<table border=\"1\" class=\"dataframe\">\n",
       "  <thead>\n",
       "    <tr style=\"text-align: right;\">\n",
       "      <th></th>\n",
       "      <th>Department</th>\n",
       "      <th>Education</th>\n",
       "      <th>count</th>\n",
       "    </tr>\n",
       "  </thead>\n",
       "  <tbody>\n",
       "    <tr>\n",
       "      <th>0</th>\n",
       "      <td>Human Resources</td>\n",
       "      <td>1</td>\n",
       "      <td>5</td>\n",
       "    </tr>\n",
       "    <tr>\n",
       "      <th>1</th>\n",
       "      <td>Human Resources</td>\n",
       "      <td>2</td>\n",
       "      <td>13</td>\n",
       "    </tr>\n",
       "    <tr>\n",
       "      <th>2</th>\n",
       "      <td>Human Resources</td>\n",
       "      <td>3</td>\n",
       "      <td>27</td>\n",
       "    </tr>\n",
       "    <tr>\n",
       "      <th>3</th>\n",
       "      <td>Human Resources</td>\n",
       "      <td>4</td>\n",
       "      <td>15</td>\n",
       "    </tr>\n",
       "    <tr>\n",
       "      <th>4</th>\n",
       "      <td>Human Resources</td>\n",
       "      <td>5</td>\n",
       "      <td>3</td>\n",
       "    </tr>\n",
       "    <tr>\n",
       "      <th>5</th>\n",
       "      <td>Research &amp; Development</td>\n",
       "      <td>1</td>\n",
       "      <td>115</td>\n",
       "    </tr>\n",
       "    <tr>\n",
       "      <th>6</th>\n",
       "      <td>Research &amp; Development</td>\n",
       "      <td>2</td>\n",
       "      <td>182</td>\n",
       "    </tr>\n",
       "    <tr>\n",
       "      <th>7</th>\n",
       "      <td>Research &amp; Development</td>\n",
       "      <td>3</td>\n",
       "      <td>379</td>\n",
       "    </tr>\n",
       "    <tr>\n",
       "      <th>8</th>\n",
       "      <td>Research &amp; Development</td>\n",
       "      <td>4</td>\n",
       "      <td>255</td>\n",
       "    </tr>\n",
       "    <tr>\n",
       "      <th>9</th>\n",
       "      <td>Research &amp; Development</td>\n",
       "      <td>5</td>\n",
       "      <td>30</td>\n",
       "    </tr>\n",
       "    <tr>\n",
       "      <th>10</th>\n",
       "      <td>Sales</td>\n",
       "      <td>1</td>\n",
       "      <td>50</td>\n",
       "    </tr>\n",
       "    <tr>\n",
       "      <th>11</th>\n",
       "      <td>Sales</td>\n",
       "      <td>2</td>\n",
       "      <td>87</td>\n",
       "    </tr>\n",
       "    <tr>\n",
       "      <th>12</th>\n",
       "      <td>Sales</td>\n",
       "      <td>3</td>\n",
       "      <td>166</td>\n",
       "    </tr>\n",
       "    <tr>\n",
       "      <th>13</th>\n",
       "      <td>Sales</td>\n",
       "      <td>4</td>\n",
       "      <td>128</td>\n",
       "    </tr>\n",
       "    <tr>\n",
       "      <th>14</th>\n",
       "      <td>Sales</td>\n",
       "      <td>5</td>\n",
       "      <td>15</td>\n",
       "    </tr>\n",
       "  </tbody>\n",
       "</table>\n",
       "</div>"
      ],
      "text/plain": [
       "                Department  Education  count\n",
       "0          Human Resources          1      5\n",
       "1          Human Resources          2     13\n",
       "2          Human Resources          3     27\n",
       "3          Human Resources          4     15\n",
       "4          Human Resources          5      3\n",
       "5   Research & Development          1    115\n",
       "6   Research & Development          2    182\n",
       "7   Research & Development          3    379\n",
       "8   Research & Development          4    255\n",
       "9   Research & Development          5     30\n",
       "10                   Sales          1     50\n",
       "11                   Sales          2     87\n",
       "12                   Sales          3    166\n",
       "13                   Sales          4    128\n",
       "14                   Sales          5     15"
      ]
     },
     "execution_count": 27,
     "metadata": {},
     "output_type": "execute_result"
    }
   ],
   "source": [
    "#Education count by department (SQL)\n",
    "s8 = pd.read_sql_query(\"SELECT Department, Education, COUNT(*) as count From Employees GROUP BY Department, Education;\",conn)\n",
    "s8"
   ]
  },
  {
   "cell_type": "markdown",
   "id": "c13de6d1",
   "metadata": {},
   "source": [
    "## Conclusion\n",
    "The analysis reveals the size and structure of the workforce, highlights salary differences by job role, and identifies top performers for recognition. It also shows which department performs best and provides insights into employee age, engagement, and education to support HR decisions on training and development."
   ]
  }
 ],
 "metadata": {
  "kernelspec": {
   "display_name": "AI",
   "language": "python",
   "name": "python3"
  },
  "language_info": {
   "codemirror_mode": {
    "name": "ipython",
    "version": 3
   },
   "file_extension": ".py",
   "mimetype": "text/x-python",
   "name": "python",
   "nbconvert_exporter": "python",
   "pygments_lexer": "ipython3",
   "version": "3.10.18"
  }
 },
 "nbformat": 4,
 "nbformat_minor": 5
}
