{
 "cells": [
  {
   "cell_type": "code",
   "execution_count": 10,
   "id": "c9cad5fe",
   "metadata": {},
   "outputs": [
    {
     "data": {
      "text/plain": [
       "1470"
      ]
     },
     "execution_count": 10,
     "metadata": {},
     "output_type": "execute_result"
    }
   ],
   "source": [
    "#Improt the database\n",
    "import pandas as pd\n",
    "import sqlite3\n",
    "df = pd.read_csv('WA_Fn-UseC_-HR-Employee-Attrition.csv')\n",
    "conn = sqlite3.connect('mydb.db')\n",
    "df.to_sql('Employees', conn, if_exists='replace', index=False)"
   ]
  },
  {
   "cell_type": "markdown",
   "id": "b5ce7eb3",
   "metadata": {},
   "source": [
    "Q1 Python/ Sqlite"
   ]
  },
  {
   "cell_type": "code",
   "execution_count": null,
   "id": "e3cd9b7b",
   "metadata": {},
   "outputs": [
    {
     "name": "stdout",
     "output_type": "stream",
     "text": [
      "Total employees: 1470\n"
     ]
    }
   ],
   "source": [
    "# count the length by python \n",
    "total_employees = len(df)\n",
    "print(f\"Total employees: {total_employees}\")"
   ]
  },
  {
   "cell_type": "code",
   "execution_count": 12,
   "id": "63da3672",
   "metadata": {},
   "outputs": [
    {
     "data": {
      "text/html": [
       "<div>\n",
       "<style scoped>\n",
       "    .dataframe tbody tr th:only-of-type {\n",
       "        vertical-align: middle;\n",
       "    }\n",
       "\n",
       "    .dataframe tbody tr th {\n",
       "        vertical-align: top;\n",
       "    }\n",
       "\n",
       "    .dataframe thead th {\n",
       "        text-align: right;\n",
       "    }\n",
       "</style>\n",
       "<table border=\"1\" class=\"dataframe\">\n",
       "  <thead>\n",
       "    <tr style=\"text-align: right;\">\n",
       "      <th></th>\n",
       "      <th>count (*)</th>\n",
       "    </tr>\n",
       "  </thead>\n",
       "  <tbody>\n",
       "    <tr>\n",
       "      <th>0</th>\n",
       "      <td>1470</td>\n",
       "    </tr>\n",
       "  </tbody>\n",
       "</table>\n",
       "</div>"
      ],
      "text/plain": [
       "   count (*)\n",
       "0       1470"
      ]
     },
     "execution_count": 12,
     "metadata": {},
     "output_type": "execute_result"
    }
   ],
   "source": [
    "# count the length by SQL\n",
    "s1= pd.read_sql_query(\"select count (*) FROM Employees;\",conn)\n",
    "s1"
   ]
  },
  {
   "cell_type": "code",
   "execution_count": null,
   "id": "94f1515a",
   "metadata": {},
   "outputs": [
    {
     "name": "stdout",
     "output_type": "stream",
     "text": [
      "Employee count by Department:\n",
      "Department\n",
      "Human Resources            63\n",
      "Research & Development    961\n",
      "Sales                     446\n",
      "dtype: int64\n"
     ]
    }
   ],
   "source": [
    "# count the employee by department (Python)\n",
    "department_counts = df.groupby('Department').size()\n",
    "print(\"Employee count by Department:\")\n",
    "print(department_counts)"
   ]
  },
  {
   "cell_type": "code",
   "execution_count": 14,
   "id": "827d9f9e",
   "metadata": {},
   "outputs": [
    {
     "data": {
      "text/html": [
       "<div>\n",
       "<style scoped>\n",
       "    .dataframe tbody tr th:only-of-type {\n",
       "        vertical-align: middle;\n",
       "    }\n",
       "\n",
       "    .dataframe tbody tr th {\n",
       "        vertical-align: top;\n",
       "    }\n",
       "\n",
       "    .dataframe thead th {\n",
       "        text-align: right;\n",
       "    }\n",
       "</style>\n",
       "<table border=\"1\" class=\"dataframe\">\n",
       "  <thead>\n",
       "    <tr style=\"text-align: right;\">\n",
       "      <th></th>\n",
       "      <th>Department</th>\n",
       "      <th>employee_count</th>\n",
       "    </tr>\n",
       "  </thead>\n",
       "  <tbody>\n",
       "    <tr>\n",
       "      <th>0</th>\n",
       "      <td>Human Resources</td>\n",
       "      <td>63</td>\n",
       "    </tr>\n",
       "    <tr>\n",
       "      <th>1</th>\n",
       "      <td>Research &amp; Development</td>\n",
       "      <td>961</td>\n",
       "    </tr>\n",
       "    <tr>\n",
       "      <th>2</th>\n",
       "      <td>Sales</td>\n",
       "      <td>446</td>\n",
       "    </tr>\n",
       "  </tbody>\n",
       "</table>\n",
       "</div>"
      ],
      "text/plain": [
       "               Department  employee_count\n",
       "0         Human Resources              63\n",
       "1  Research & Development             961\n",
       "2                   Sales             446"
      ]
     },
     "execution_count": 14,
     "metadata": {},
     "output_type": "execute_result"
    }
   ],
   "source": [
    "# count the employee by department (SQL)\n",
    "s2 = pd.read_sql_query(\"SELECT Department, COUNT(EmployeeNumber) AS \" \\\n",
    "\"employee_count FROM Employees GROUP BY Department;\",conn)\n",
    "s2"
   ]
  },
  {
   "cell_type": "code",
   "execution_count": null,
   "id": "6ba9bae6",
   "metadata": {},
   "outputs": [
    {
     "name": "stdout",
     "output_type": "stream",
     "text": [
      "Average monthly income by job role:\n",
      "                     JobRole  MonthlyIncome\n",
      "0  Healthcare Representative           7528\n",
      "1            Human Resources           4235\n",
      "2      Laboratory Technician           3237\n",
      "3                    Manager          17181\n",
      "4     Manufacturing Director           7295\n",
      "5          Research Director          16033\n",
      "6         Research Scientist           3239\n",
      "7            Sales Executive           6924\n",
      "8       Sales Representative           2626\n"
     ]
    }
   ],
   "source": [
    "# Average income (Python) \n",
    "avg_income = df.groupby('JobRole')['MonthlyIncome'].mean().reset_index()\n",
    "print(\"Average monthly income by job role:\")\n",
    "avg_income['MonthlyIncome'] = avg_income['MonthlyIncome'].astype(int)\n",
    "print(avg_income)"
   ]
  },
  {
   "cell_type": "code",
   "execution_count": 16,
   "id": "05dd9728",
   "metadata": {},
   "outputs": [
    {
     "data": {
      "text/html": [
       "<div>\n",
       "<style scoped>\n",
       "    .dataframe tbody tr th:only-of-type {\n",
       "        vertical-align: middle;\n",
       "    }\n",
       "\n",
       "    .dataframe tbody tr th {\n",
       "        vertical-align: top;\n",
       "    }\n",
       "\n",
       "    .dataframe thead th {\n",
       "        text-align: right;\n",
       "    }\n",
       "</style>\n",
       "<table border=\"1\" class=\"dataframe\">\n",
       "  <thead>\n",
       "    <tr style=\"text-align: right;\">\n",
       "      <th></th>\n",
       "      <th>JobRole</th>\n",
       "      <th>average_monthly_income</th>\n",
       "    </tr>\n",
       "  </thead>\n",
       "  <tbody>\n",
       "    <tr>\n",
       "      <th>0</th>\n",
       "      <td>Healthcare Representative</td>\n",
       "      <td>7528.763359</td>\n",
       "    </tr>\n",
       "    <tr>\n",
       "      <th>1</th>\n",
       "      <td>Human Resources</td>\n",
       "      <td>4235.750000</td>\n",
       "    </tr>\n",
       "    <tr>\n",
       "      <th>2</th>\n",
       "      <td>Laboratory Technician</td>\n",
       "      <td>3237.169884</td>\n",
       "    </tr>\n",
       "    <tr>\n",
       "      <th>3</th>\n",
       "      <td>Manager</td>\n",
       "      <td>17181.676471</td>\n",
       "    </tr>\n",
       "    <tr>\n",
       "      <th>4</th>\n",
       "      <td>Manufacturing Director</td>\n",
       "      <td>7295.137931</td>\n",
       "    </tr>\n",
       "    <tr>\n",
       "      <th>5</th>\n",
       "      <td>Research Director</td>\n",
       "      <td>16033.550000</td>\n",
       "    </tr>\n",
       "    <tr>\n",
       "      <th>6</th>\n",
       "      <td>Research Scientist</td>\n",
       "      <td>3239.972603</td>\n",
       "    </tr>\n",
       "    <tr>\n",
       "      <th>7</th>\n",
       "      <td>Sales Executive</td>\n",
       "      <td>6924.279141</td>\n",
       "    </tr>\n",
       "    <tr>\n",
       "      <th>8</th>\n",
       "      <td>Sales Representative</td>\n",
       "      <td>2626.000000</td>\n",
       "    </tr>\n",
       "  </tbody>\n",
       "</table>\n",
       "</div>"
      ],
      "text/plain": [
       "                     JobRole  average_monthly_income\n",
       "0  Healthcare Representative             7528.763359\n",
       "1            Human Resources             4235.750000\n",
       "2      Laboratory Technician             3237.169884\n",
       "3                    Manager            17181.676471\n",
       "4     Manufacturing Director             7295.137931\n",
       "5          Research Director            16033.550000\n",
       "6         Research Scientist             3239.972603\n",
       "7            Sales Executive             6924.279141\n",
       "8       Sales Representative             2626.000000"
      ]
     },
     "execution_count": 16,
     "metadata": {},
     "output_type": "execute_result"
    }
   ],
   "source": [
    "# Average income (SQL) \n",
    "s3 = pd.read_sql_query(\"SELECT JobRole, AVG(MonthlyIncome) AS average_monthly_income \" \\\n",
    "\"FROM employees GROUP BY JobRole;\",conn)\n",
    "s3"
   ]
  }
 ],
 "metadata": {
  "kernelspec": {
   "display_name": "AI",
   "language": "python",
   "name": "python3"
  },
  "language_info": {
   "codemirror_mode": {
    "name": "ipython",
    "version": 3
   },
   "file_extension": ".py",
   "mimetype": "text/x-python",
   "name": "python",
   "nbconvert_exporter": "python",
   "pygments_lexer": "ipython3",
   "version": "3.10.18"
  }
 },
 "nbformat": 4,
 "nbformat_minor": 5
}
